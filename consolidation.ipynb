{
 "cells": [
  {
   "cell_type": "code",
   "execution_count": 20,
   "metadata": {},
   "outputs": [],
   "source": [
    "import pandas as pd\n",
    "\n",
    "#load data\n",
    "original_data = pd.read_csv('cleaned.csv', low_memory=False)\n",
    "vin_data = pd.read_csv('appended.csv', low_memory=False)\n",
    "\n",
    "def fix_vin(x):\n",
    "    return x.split(\"*\")[0]\n",
    "\n",
    "#fix vin_data column\n",
    "vin_data[\"VIN\"] = vin_data[\"VIN\"].map(fix_vin)\n",
    "\n",
    "combined_data = original_data.merge(vin_data, \n",
    "                                    left_on='vin', \n",
    "                                    right_on='VIN',\n",
    "                                    )\n",
    "\n",
    "combined_data.to_csv('combined.csv')\n"
   ]
  },
  {
   "cell_type": "code",
   "execution_count": 41,
   "metadata": {},
   "outputs": [],
   "source": [
    "combined_data = pd.read_csv('combined-louq.csv', low_memory=False)\n",
    "oo_data = pd.read_csv('one_owner.csv', low_memory=False)\n",
    "\n",
    "final_data = combined_data.merge(oo_data, on='vin')\n",
    "final_data.to_csv('final_data.csv')"
   ]
  }
 ],
 "metadata": {
  "kernelspec": {
   "display_name": "Python 3",
   "language": "python",
   "name": "python3"
  },
  "language_info": {
   "name": "python",
   "version": "3.10.9"
  },
  "orig_nbformat": 4
 },
 "nbformat": 4,
 "nbformat_minor": 2
}
