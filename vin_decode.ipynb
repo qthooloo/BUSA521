{
 "cells": [
  {
   "cell_type": "code",
   "execution_count": 38,
   "metadata": {},
   "outputs": [],
   "source": [
    "import pandas as pd\n",
    "import requests\n",
    "\n",
    "datafile = 'cleaned.csv'\n",
    "outfile = 'appended.csv'\n",
    "apibaseurl = 'https://vpic.nhtsa.dot.gov/api/vehicles/DecodeVinValuesExtended/'\n",
    "\n",
    "def apicall(vin,year):\n",
    "    #assemble url\n",
    "    url = apibaseurl + vin + '*BA?format=json&modelyear=' + str(year)\n",
    "    response = requests.get(url)\n",
    "    output = response.json()[\"Results\"][0]\n",
    "    output = pd.DataFrame([output])\n",
    "    return output\n"
   ]
  },
  {
   "cell_type": "code",
   "execution_count": 39,
   "metadata": {},
   "outputs": [],
   "source": [
    "sourcedata = pd.read_csv(datafile, low_memory=False)\n",
    "\n",
    "resultdata = pd.DataFrame()\n",
    "for entry in sourcedata.itertuples():\n",
    "    result = apicall(entry.vin, entry.year)\n",
    "    resultdata = pd.concat([resultdata, result], ignore_index=True)\n",
    "    "
   ]
  },
  {
   "cell_type": "code",
   "execution_count": 40,
   "metadata": {},
   "outputs": [],
   "source": [
    "resultdata.to_csv(outfile)"
   ]
  }
 ],
 "metadata": {
  "kernelspec": {
   "display_name": "Python 3",
   "language": "python",
   "name": "python3"
  },
  "language_info": {
   "codemirror_mode": {
    "name": "ipython",
    "version": 3
   },
   "file_extension": ".py",
   "mimetype": "text/x-python",
   "name": "python",
   "nbconvert_exporter": "python",
   "pygments_lexer": "ipython3",
   "version": "3.10.9"
  },
  "orig_nbformat": 4,
  "vscode": {
   "interpreter": {
    "hash": "6b98218e4adad896f259362f2e8b4865d16b579ebdf3d9ea248ee38cda50958f"
   }
  }
 },
 "nbformat": 4,
 "nbformat_minor": 2
}
